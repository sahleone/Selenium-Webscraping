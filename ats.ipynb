{
 "cells": [
  {
   "cell_type": "code",
   "execution_count": 1,
   "metadata": {},
   "outputs": [],
   "source": [
    "import os\n",
    "from dotenv import load_dotenv, find_dotenv\n",
    "\n",
    "import pandas as pd\n",
    "\n",
    "import openai"
   ]
  },
  {
   "cell_type": "code",
   "execution_count": 4,
   "metadata": {},
   "outputs": [],
   "source": [
    "_ = load_dotenv(find_dotenv())\n",
    "openai.api_key = os.environ.get(\"OPENAI_API_KEY\")\n",
    "\n",
    "llm_model = \"gpt-3.5-turbo-0301\""
   ]
  },
  {
   "cell_type": "code",
   "execution_count": 5,
   "metadata": {},
   "outputs": [],
   "source": [
    "def get_result(prompt, model = \"gpt-3.5-turbo-1106\", temperature=0):\n",
    "    messages = [{'role': 'user', 'content': prompt}]\n",
    "    response =  openai.chat.completions.create(\n",
    "        model = model,\n",
    "        messages = messages,\n",
    "        temperature = temperature\n",
    "    )\n",
    "    return response.choices[0].message.content"
   ]
  },
  {
   "cell_type": "code",
   "execution_count": 6,
   "metadata": {},
   "outputs": [],
   "source": [
    "document = 'company description  zenith is the roi agency. our more than 6,000 specialists across 95 markets offer unparalleled capabilities in media, data, technology, commerce and content. we put effectiveness at the heart of our work to solve complex challenges, drive successful business outcomes, and grow our clients’ businesses. zenith is part of publicis media, the media arm of publicis groupe.  job description  what does zenith data sciences do?  working closely with both the business planning and analytics teams, data sciences designs and implements statistical models and machine learning solutions that tie our clients’ marketing to real-world business goals. we use these models to understand past performance, predict future performance, and inform and optimize future decisions. our work brings our clients closer to their marketing, helping them understand if they are talking to the right people in the right way. what does a successful data scientist look like?  we don’t all look the same, and we don’t expect you to, either. but a successful data scientist should share our passion for emerging tech and media, bring an evidence-based approach to decision-making, determine a point of view and share it in a positive way, gear up for a challenge, and always crave to learn more and improve. we are looking for prior experience in marketing analytics, especially digital creative and media, but this isn’t necessarily a requirement. at least 1-2 years of prior professional experience is highly desired. what does a data scientist do day-to-day?  data scientists form the foundation of the data sciences team, structuring and analyzing data, implementing and interpreting models that feed business-improving insights, and putting it all together into presentations that bring the story to life for our clients. data scientists work closely with the data science manager to help execute the broader vision for their account, and to continually evolve our data science solutions. day-to-day responsibilities include: design, estimate, tune, score and maintain advanced statistical and mathematical models (e.g. classification, numeric forecasts, customer segmentation, customer propensity, attribution, etc.). produce accurate statistical analysis and ensure high quality of the data analysis produced. interpret, document and present/communicate analytical results to multiple business disciplines, providing conclusions and recommendations. take analytical objectives and define data requirements. extract, clean, and transform both customer level, and aggregated data for analysis, modelling, segmentation and reporting.   qualifications  data science training and experience: bs/ms degree in quantitative field (mathematics, physical science, engineering, statistics, economics) 2+ years business experience working on data science projects. data science technical skills: strong understanding of mathematical modeling, probability, and statistics including linear/logistic regression, decision trees, and optimization modelling. experience with developing and applying advanced statistical methods to analytical problems including analysis of time series. data science technical tools: proficient with python/r/sas/spss for statistical modeling and machine learning. familiarity with relational databases and sql programming familiar with data processing and management support tools such as ms office, advanced excel analysis, power bi, tableau soft skills: strong written and verbal presentation skills. proactive, collaborative, adaptable, willing to expand technical and business skills. responsibilities: data scientists work collaboratively with business strategy, planning and analytics teams to translate our clients’ marketing into analytical solutions by defining analytical objectives, documenting the data and technical requirements, and developing solutions. data scientists are expected to analyze data, apply appropriate models to it, and interpret the results prepare (extract, clean, and transform) data for analysis, modelling, segmentation and reporting. perform ml optimization on the data (design, estimate, tune, score and maintain advanced statistical and mathematical models). produce (accurate) statistical analysis and ensure high quality of the data analysis produced. interpret, document and present/communicate analytical results to multiple business disciplines, providing conclusions and recommendations continuously evolve the solutions  additional information  all your information will be kept confidential according to eeo guidelines. compensation range: $70,000 - $105,000 annually. this is the pay range the company believes it will pay for this position at the time of this posting. consistent with applicable law, compensation will be determined based on the skills, qualifications, and experience of the applicant along with the requirements of the position, and the company reserves the right to modify this pay range at any time. for this role, the company will offer medical coverage, dental, vision, disability, 401k, and paid time off. the company anticipates the application window for this job posting will end 3/5/2024. #li-hybrid'"
   ]
  },
  {
   "cell_type": "code",
   "execution_count": 76,
   "metadata": {},
   "outputs": [],
   "source": [
    "resume = \"\"\"\"\n",
    "Data Scientist\n",
    "Accomplished Data Scientist Specializing in End-to-End Data Project Development\n",
    "Proven and adaptable data scientist with a robust skill set dedicated to building comprehensive data projects from inception to implementation. Demonstrated success collaborating with cross-functional teams to deliver impactful results.\n",
    "Skills\n",
    "   Python (NumPy, Pandas, Scikit-learn, Stats models) | SQL/NonSQL | GIT \n",
    "AWS (EMR S3) | Pytorch | Statistics | Machine Learning | Forecasting\n",
    "\n",
    "Professional Experience\n",
    "Prospect 33, Manhattan, New York\t\t\t\t\t\t\t              2022 - 2023                                                      Data Scientist  \n",
    "Acted as a data scientist for a R&D AI banking solution company, leveraging advanced data analytics and  machine learning techniques to drive innovation in the financial sector.\n",
    "Conducted data extraction processes to gather relevant data from multiple sources, creating datasets for a machine learning pipeline and employee attrition, reducing data preprocessing time.\n",
    "Developed the company’s first forecasting machine learning pipeline using Python, SQLAlchemy, Docker, Azure SQL, and Application Insights, achieving an 85% improvement in forecasting accuracy.\n",
    "Collaborated with database administrators and domain experts to design an optimized database table schema that efficiently stores and manages forecasted results.\n",
    "Led the forecasting product build, collaborating with customer success, and achieved a successful launch within 5 months, exceeding client expectations. \n",
    "\n",
    "Full-Time Student, Simplilearn\t \t\t\t\t\t\t\t         2021-2022\n",
    "\n",
    "Ministry of Health, Government of the Republic of Trinidad and Tobago\t\t         2020-2021\n",
    "Freelance, Data Analyst\n",
    "Served as a data analyst for the national authority and policymaker for all health systems, providing insights and data-driven recommendations to shape healthcare policies and improve national systems.\n",
    "Designed a data dashboard for the Occupational Safety and Health department, evaluating the effectiveness of regional COVID-19 measures, resulting in improvement in safety protocols.\n",
    "Launched a  questionnaire to assess the utilization of COVID-19 measures among 80 healthcare staff.\n",
    "Conducted comprehensive data analysis and generated detailed reports during a 3-month project focused on assessing the effectiveness of COVID-19 safety measures, providing insights to leadership.\n",
    "Full-Time Student \t\t\t\t\t\t\t\t\t\t         2018-2020\n",
    "\n",
    "University of the West Indies, St. Augustine, Trinidad and Tobago\t\t\t\t      2018\n",
    "Teaching Assistant\n",
    "Instructed a class of 30 undergraduate students in R programming, effectively equipping them with valuable data analysis skills.\n",
    "Conducted in-depth reviews of lecture materials, enhancing students' academic performance, leading to an average class grade of B/B+ and 90% course completion. \n",
    "Assisted with transcript marking and grade distribution, ensuring accurate recordkeeping for the course.\n",
    "\n",
    "Education & Professional Development \n",
    "\n",
    "Post Graduate Program in Data Engineering Simplilearn with Purdue University, 2022\n",
    "Master of Science in  Statistics, University of The West Indies, 2019                           \n",
    "Bachelor of Science, Actuarial Science, University of The West Indies, 2016\n",
    "Data Science, Udacity, 2020\n",
    "Large Language Models: Application through Production, Databricks,  2023\n",
    "Large Language Models: Foundation Models from the Ground Up, edX, 2024     \n",
    "\"\"\"\n",
    "\n",
    "# template_missing_key_terms = f\"\"\" Compare the following resume \n",
    "#             ###{resume}### \n",
    "#             and and job posting \n",
    "#             ###{document}###\n",
    "#             pause to consider the differences between the resume and the job posting\n",
    "#             Return in json format:\n",
    "\n",
    "#             missing key terms from the resume\n",
    "             \n",
    "#             \"\"\"\n",
    "# result = get_result(template, model = llm_model, temperature=0) \n",
    "\n",
    "# print(result)\n"
   ]
  },
  {
   "cell_type": "code",
   "execution_count": 81,
   "metadata": {},
   "outputs": [],
   "source": [
    "template = f\"\"\"\n",
    "    You are an expert admin who will extract core information from documents. You will be given a document. You will extract the following data points from the document:\n",
    "\n",
    "    ###\n",
    "    {document}\n",
    "    ###\n",
    "    pause to consider the differences and similarities between the resume and the job posting\n",
    "    You will extract the following data points from the document in json format:\n",
    "    'title', 'programming languages', 'technical skills',' soft skills', 'salary', 'technologies',\n",
    "      'degree', 'degree field','responsibilities', 'qualifications','missing key words not found in the resume'\n",
    "    store 'years experience' as a list of numbers in the form [minimum, maximum] if available\n",
    "    store 'salary' as a list of numbers in the form [minimum, maximum] if available, otherwise store as -1\n",
    "    store 'degree' as a list of strings. Expand abbreviations to full names. For example, 'BA' should be expanded to 'Bachelor of Arts'\n",
    "\n",
    "\"\"\""
   ]
  },
  {
   "cell_type": "code",
   "execution_count": 82,
   "metadata": {},
   "outputs": [
    {
     "name": "stdout",
     "output_type": "stream",
     "text": [
      "{\n",
      "    \"title\": \"Data Scientist\",\n",
      "    \"programming languages\": [\"Python\", \"R\", \"SAS\", \"SPSS\"],\n",
      "    \"technical skills\": [\"Mathematical modeling\", \"Probability\", \"Statistics\", \"Linear/logistic regression\", \"Decision trees\", \"Optimization modeling\", \"Time series analysis\"],\n",
      "    \"soft skills\": [\"Strong written and verbal presentation skills\", \"Proactive\", \"Collaborative\", \"Adaptable\", \"Willing to expand technical and business skills\"],\n",
      "    \"salary\": [70000, 105000],\n",
      "    \"technologies\": [\"MS Office\", \"Advanced Excel analysis\", \"Power BI\", \"Tableau\"],\n",
      "    \"degree\": [\"Bachelor of Science\", \"Master of Science\"],\n",
      "    \"degree field\": [\"Mathematics\", \"Physical Science\", \"Engineering\", \"Statistics\", \"Economics\"],\n",
      "    \"responsibilities\": [\"Analyzing data\", \"Applying appropriate models\", \"Interpreting results\", \"Preparing data for analysis\", \"Performing ML optimization\", \"Producing statistical analysis\", \"Presenting/communicating analytical results\", \"Continuously evolving solutions\"],\n",
      "    \"qualifications\": [\"2+ years business experience working on data science projects\", \"Strong understanding of mathematical modeling, probability, and statistics\", \"Proficient with Python/R/SAS/SPSS for statistical modeling and machine learning\", \"Familiarity with relational databases and SQL programming\"],\n",
      "    \"missing key words not found in the resume\": [\"Publicis Media\", \"Commerce\", \"Content\", \"Marketing analytics\", \"Digital creative and media\"]\n",
      "}\n"
     ]
    }
   ],
   "source": [
    "result = get_result(template, model = llm_model, temperature=0) \n",
    "\n",
    "print(result)"
   ]
  },
  {
   "cell_type": "code",
   "execution_count": 86,
   "metadata": {},
   "outputs": [
    {
     "name": "stdout",
     "output_type": "stream",
     "text": [
      "{'title': 'Data Scientist', 'programming languages': ['Python', 'R', 'SAS', 'SPSS'], 'technical skills': ['Mathematical modeling', 'Probability', 'Statistics', 'Linear/logistic regression', 'Decision trees', 'Optimization modeling', 'Time series analysis'], 'soft skills': ['Strong written and verbal presentation skills', 'Proactive', 'Collaborative', 'Adaptable', 'Willing to expand technical and business skills'], 'salary': [70000, 105000], 'technologies': ['MS Office', 'Advanced Excel analysis', 'Power BI', 'Tableau'], 'degree': ['Bachelor of Science', 'Master of Science'], 'degree field': ['Mathematics', 'Physical Science', 'Engineering', 'Statistics', 'Economics'], 'responsibilities': ['Analyzing data', 'Applying appropriate models', 'Interpreting results', 'Preparing data for analysis', 'Performing ML optimization', 'Producing statistical analysis', 'Presenting/communicating analytical results', 'Continuously evolving solutions'], 'qualifications': ['2+ years business experience working on data science projects', 'Strong understanding of mathematical modeling, probability, and statistics', 'Proficient with Python/R/SAS/SPSS for statistical modeling and machine learning', 'Familiarity with relational databases and SQL programming'], 'missing key words not found in the resume': ['Publicis Media', 'Commerce', 'Content', 'Marketing analytics', 'Digital creative and media']}\n"
     ]
    }
   ],
   "source": [
    "import json\n",
    "result = json.loads(result)\n",
    "print(result)"
   ]
  },
  {
   "cell_type": "code",
   "execution_count": 69,
   "metadata": {},
   "outputs": [],
   "source": [
    "import numpy as np\n",
    "\n",
    "my_model = 'text-embedding-ada-002'\n",
    "\n",
    "\n",
    "def get_embedding(model: str, text: str) -> list[float]:\n",
    "    \n",
    "  text = text.replace(\"\\n\", \" \")\n",
    "\n",
    "  result = openai.embeddings.create(\n",
    "      model = my_model,\n",
    "      input = text\n",
    "    )\n",
    "  return result.data[0].embedding\n",
    "\n",
    "def cosine_similarity(a, b):\n",
    "    return np.dot(a, b) / (np.linalg.norm(a) * np.linalg.norm(b))"
   ]
  },
  {
   "cell_type": "code",
   "execution_count": 71,
   "metadata": {},
   "outputs": [
    {
     "name": "stdout",
     "output_type": "stream",
     "text": [
      "0.8012274955121425\n"
     ]
    }
   ],
   "source": [
    "resume_embedding = get_embedding(my_model, resume)\n",
    "document_embedding = get_embedding(my_model, document)\n",
    "\n",
    "similarity = cosine_similarity(resume_embedding, document_embedding)\n",
    "print(similarity)"
   ]
  },
  {
   "cell_type": "code",
   "execution_count": 87,
   "metadata": {},
   "outputs": [
    {
     "name": "stdout",
     "output_type": "stream",
     "text": [
      "{'title': 'Data Scientist', 'programming languages': ['Python', 'R', 'SAS', 'SPSS'], 'technical skills': ['Mathematical modeling', 'Probability', 'Statistics', 'Linear/logistic regression', 'Decision trees', 'Optimization modeling', 'Time series analysis'], 'soft skills': ['Strong written and verbal presentation skills', 'Proactive', 'Collaborative', 'Adaptable', 'Willing to expand technical and business skills'], 'salary': [70000, 105000], 'technologies': ['MS Office', 'Advanced Excel analysis', 'Power BI', 'Tableau'], 'degree': ['Bachelor of Science', 'Master of Science'], 'degree field': ['Mathematics', 'Physical Science', 'Engineering', 'Statistics', 'Economics'], 'responsibilities': ['Analyzing data', 'Applying appropriate models', 'Interpreting results', 'Preparing data for analysis', 'Performing ML optimization', 'Producing statistical analysis', 'Presenting/communicating analytical results', 'Continuously evolving solutions'], 'qualifications': ['2+ years business experience working on data science projects', 'Strong understanding of mathematical modeling, probability, and statistics', 'Proficient with Python/R/SAS/SPSS for statistical modeling and machine learning', 'Familiarity with relational databases and SQL programming'], 'missing key words not found in the resume': ['Publicis Media', 'Commerce', 'Content', 'Marketing analytics', 'Digital creative and media'], 'cosine_similarity': 0.8012274955121425}\n"
     ]
    }
   ],
   "source": [
    "result['cosine_similarity'] = similarity\n",
    "print(result)"
   ]
  },
  {
   "cell_type": "code",
   "execution_count": null,
   "metadata": {},
   "outputs": [],
   "source": []
  }
 ],
 "metadata": {
  "kernelspec": {
   "display_name": "venv",
   "language": "python",
   "name": "python3"
  },
  "language_info": {
   "codemirror_mode": {
    "name": "ipython",
    "version": 3
   },
   "file_extension": ".py",
   "mimetype": "text/x-python",
   "name": "python",
   "nbconvert_exporter": "python",
   "pygments_lexer": "ipython3",
   "version": "3.10.5"
  }
 },
 "nbformat": 4,
 "nbformat_minor": 2
}
