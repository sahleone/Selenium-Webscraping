{
 "cells": [
  {
   "cell_type": "code",
   "execution_count": 50,
   "metadata": {},
   "outputs": [],
   "source": [
    "import os\n",
    "from dotenv import load_dotenv, find_dotenv\n",
    "\n",
    "import pandas as pd\n",
    "\n",
    "import openai"
   ]
  },
  {
   "cell_type": "code",
   "execution_count": 51,
   "metadata": {},
   "outputs": [],
   "source": [
    "_ = load_dotenv(find_dotenv())\n",
    "openai.api_key = os.environ.get(\"OPENAI_API_KEY\")\n",
    "\n",
    "llm_model = \"gpt-3.5-turbo-0301\""
   ]
  },
  {
   "cell_type": "code",
   "execution_count": 52,
   "metadata": {},
   "outputs": [],
   "source": [
    "def get_result(prompt, model = \"gpt-3.5-turbo-1106\", temperature=0):\n",
    "    messages = [{'role': 'user', 'content': prompt}]\n",
    "    response =  openai.chat.completions.create(\n",
    "        model = model,\n",
    "        messages = messages,\n",
    "        temperature = temperature\n",
    "    )\n",
    "    return response.choices[0].message.content"
   ]
  },
  {
   "cell_type": "code",
   "execution_count": 53,
   "metadata": {},
   "outputs": [],
   "source": [
    "document = 'company description  zenith is the roi agency. our more than 6,000 specialists across 95 markets offer unparalleled capabilities in media, data, technology, commerce and content. we put effectiveness at the heart of our work to solve complex challenges, drive successful business outcomes, and grow our clients’ businesses. zenith is part of publicis media, the media arm of publicis groupe.  job description  what does zenith data sciences do?  working closely with both the business planning and analytics teams, data sciences designs and implements statistical models and machine learning solutions that tie our clients’ marketing to real-world business goals. we use these models to understand past performance, predict future performance, and inform and optimize future decisions. our work brings our clients closer to their marketing, helping them understand if they are talking to the right people in the right way. what does a successful data scientist look like?  we don’t all look the same, and we don’t expect you to, either. but a successful data scientist should share our passion for emerging tech and media, bring an evidence-based approach to decision-making, determine a point of view and share it in a positive way, gear up for a challenge, and always crave to learn more and improve. we are looking for prior experience in marketing analytics, especially digital creative and media, but this isn’t necessarily a requirement. at least 1-2 years of prior professional experience is highly desired. what does a data scientist do day-to-day?  data scientists form the foundation of the data sciences team, structuring and analyzing data, implementing and interpreting models that feed business-improving insights, and putting it all together into presentations that bring the story to life for our clients. data scientists work closely with the data science manager to help execute the broader vision for their account, and to continually evolve our data science solutions. day-to-day responsibilities include: design, estimate, tune, score and maintain advanced statistical and mathematical models (e.g. classification, numeric forecasts, customer segmentation, customer propensity, attribution, etc.). produce accurate statistical analysis and ensure high quality of the data analysis produced. interpret, document and present/communicate analytical results to multiple business disciplines, providing conclusions and recommendations. take analytical objectives and define data requirements. extract, clean, and transform both customer level, and aggregated data for analysis, modelling, segmentation and reporting.   qualifications  data science training and experience: bs/ms degree in quantitative field (mathematics, physical science, engineering, statistics, economics) 2+ years business experience working on data science projects. data science technical skills: strong understanding of mathematical modeling, probability, and statistics including linear/logistic regression, decision trees, and optimization modelling. experience with developing and applying advanced statistical methods to analytical problems including analysis of time series. data science technical tools: proficient with python/r/sas/spss for statistical modeling and machine learning. familiarity with relational databases and sql programming familiar with data processing and management support tools such as ms office, advanced excel analysis, power bi, tableau soft skills: strong written and verbal presentation skills. proactive, collaborative, adaptable, willing to expand technical and business skills. responsibilities: data scientists work collaboratively with business strategy, planning and analytics teams to translate our clients’ marketing into analytical solutions by defining analytical objectives, documenting the data and technical requirements, and developing solutions. data scientists are expected to analyze data, apply appropriate models to it, and interpret the results prepare (extract, clean, and transform) data for analysis, modelling, segmentation and reporting. perform ml optimization on the data (design, estimate, tune, score and maintain advanced statistical and mathematical models). produce (accurate) statistical analysis and ensure high quality of the data analysis produced. interpret, document and present/communicate analytical results to multiple business disciplines, providing conclusions and recommendations continuously evolve the solutions  additional information  all your information will be kept confidential according to eeo guidelines. compensation range: $70,000 - $105,000 annually. this is the pay range the company believes it will pay for this position at the time of this posting. consistent with applicable law, compensation will be determined based on the skills, qualifications, and experience of the applicant along with the requirements of the position, and the company reserves the right to modify this pay range at any time. for this role, the company will offer medical coverage, dental, vision, disability, 401k, and paid time off. the company anticipates the application window for this job posting will end 3/5/2024. #li-hybrid'"
   ]
  },
  {
   "cell_type": "code",
   "execution_count": 54,
   "metadata": {},
   "outputs": [],
   "source": [
    "resume = \"\"\"\"\n",
    "Data Scientist\n",
    "Accomplished Data Scientist Specializing in End-to-End Data Project Development\n",
    "Proven and adaptable data scientist with a robust skill set dedicated to building comprehensive data projects from inception to implementation. Demonstrated success collaborating with cross-functional teams to deliver impactful results.\n",
    "Skills\n",
    "   Python (NumPy, Pandas, Scikit-learn, Stats models) | SQL/NonSQL | GIT \n",
    "AWS (EMR S3) | Pytorch | Statistics | Machine Learning | Forecasting\n",
    "\n",
    "Professional Experience\n",
    "Prospect 33, Manhattan, New York\t\t\t\t\t\t\t              2022 - 2023                                                      Data Scientist  \n",
    "Acted as a data scientist for a R&D AI banking solution company, leveraging advanced data analytics and  machine learning techniques to drive innovation in the financial sector.\n",
    "Conducted data extraction processes to gather relevant data from multiple sources, creating datasets for a machine learning pipeline and employee attrition, reducing data preprocessing time.\n",
    "Developed the company’s first forecasting machine learning pipeline using Python, SQLAlchemy, Docker, Azure SQL, and Application Insights, achieving an 85% improvement in forecasting accuracy.\n",
    "Collaborated with database administrators and domain experts to design an optimized database table schema that efficiently stores and manages forecasted results.\n",
    "Led the forecasting product build, collaborating with customer success, and achieved a successful launch within 5 months, exceeding client expectations. \n",
    "\n",
    "Full-Time Student, Simplilearn\t \t\t\t\t\t\t\t         2021-2022\n",
    "\n",
    "Ministry of Health, Government of the Republic of Trinidad and Tobago\t\t         2020-2021\n",
    "Freelance, Data Analyst\n",
    "Served as a data analyst for the national authority and policymaker for all health systems, providing insights and data-driven recommendations to shape healthcare policies and improve national systems.\n",
    "Designed a data dashboard for the Occupational Safety and Health department, evaluating the effectiveness of regional COVID-19 measures, resulting in improvement in safety protocols.\n",
    "Launched a  questionnaire to assess the utilization of COVID-19 measures among 80 healthcare staff.\n",
    "Conducted comprehensive data analysis and generated detailed reports during a 3-month project focused on assessing the effectiveness of COVID-19 safety measures, providing insights to leadership.\n",
    "Full-Time Student \t\t\t\t\t\t\t\t\t\t         2018-2020\n",
    "\n",
    "University of the West Indies, St. Augustine, Trinidad and Tobago\t\t\t\t      2018\n",
    "Teaching Assistant\n",
    "Instructed a class of 30 undergraduate students in R programming, effectively equipping them with valuable data analysis skills.\n",
    "Conducted in-depth reviews of lecture materials, enhancing students' academic performance, leading to an average class grade of B/B+ and 90% course completion. \n",
    "Assisted with transcript marking and grade distribution, ensuring accurate recordkeeping for the course.\n",
    "\n",
    "Education & Professional Development \n",
    "\n",
    "Post Graduate Program in Data Engineering Simplilearn with Purdue University, 2022\n",
    "Master of Science in  Statistics, University of The West Indies, 2019                           \n",
    "Bachelor of Science, Actuarial Science, University of The West Indies, 2016\n",
    "Data Science, Udacity, 2020\n",
    "Large Language Models: Application through Production, Databricks,  2023\n",
    "Large Language Models: Foundation Models from the Ground Up, edX, 2024     \n",
    "\"\"\"\n",
    "\n",
    "# template_missing_key_terms = f\"\"\" Compare the following resume \n",
    "#             ###{resume}### \n",
    "#             and and job posting \n",
    "#             ###{document}###\n",
    "#             pause to consider the differences between the resume and the job posting\n",
    "#             Return in json format:\n",
    "\n",
    "#             missing key terms from the resume\n",
    "             \n",
    "#             \"\"\"\n",
    "# result = get_result(template, model = llm_model, temperature=0) \n",
    "\n",
    "# print(result)\n"
   ]
  },
  {
   "cell_type": "code",
   "execution_count": 55,
   "metadata": {},
   "outputs": [],
   "source": [
    "template = f\"\"\"\n",
    "    You are an expert admin who will extract core information from documents. You will be given a document. You will extract the following data points from the document:\n",
    "\n",
    "    ###\n",
    "    {document}\n",
    "    ###\n",
    "    pause to consider the differences and similarities between the resume and the job posting\n",
    "    You will extract the following data points from the document in json format:\n",
    "    'title', 'programming languages', 'technical skills',' soft skills', 'salary', 'technologies',\n",
    "    'degree', 'degree field','responsibilities', 'qualifications','missing key words not found in the resume'\n",
    "    store 'years experience' as a list of numbers in the form [minimum, maximum] if available\n",
    "    store 'salary' as a list of numbers in the form [minimum, maximum] if available, otherwise store as -1\n",
    "    store 'degree' as a list of strings. Expand abbreviations to full names. For example, 'BA' should be expanded to 'Bachelor of Arts'\n",
    "\n",
    "\"\"\""
   ]
  },
  {
   "cell_type": "code",
   "execution_count": null,
   "metadata": {},
   "outputs": [],
   "source": [
    "\n",
    "\n"
   ]
  },
  {
   "cell_type": "code",
   "execution_count": 56,
   "metadata": {},
   "outputs": [
    {
     "name": "stdout",
     "output_type": "stream",
     "text": [
      "{\n",
      "    \"title\": \"Data Scientist\",\n",
      "    \"programming languages\": [\"Python\", \"R\", \"SAS\", \"SPSS\"],\n",
      "    \"technical skills\": [\"Mathematical modeling\", \"Probability\", \"Statistics\", \"Linear/logistic regression\", \"Decision trees\", \"Optimization modeling\", \"Time series analysis\"],\n",
      "    \"soft skills\": [\"Strong written and verbal presentation skills\", \"Proactive\", \"Collaborative\", \"Adaptable\", \"Willing to expand technical and business skills\"],\n",
      "    \"salary\": [70000, 105000],\n",
      "    \"technologies\": [\"MS Office\", \"Advanced Excel analysis\", \"Power BI\", \"Tableau\"],\n",
      "    \"degree\": [\"Bachelor of Science\", \"Master of Science\"],\n",
      "    \"degree field\": [\"Mathematics\", \"Physical Science\", \"Engineering\", \"Statistics\", \"Economics\"],\n",
      "    \"responsibilities\": [\"Analyzing data\", \"Applying appropriate models\", \"Interpreting results\", \"Preparing data for analysis\", \"Performing ML optimization\", \"Producing statistical analysis\", \"Presenting/communicating analytical results\", \"Continuously evolving solutions\"],\n",
      "    \"qualifications\": [\"2+ years business experience working on data science projects\", \"Strong understanding of mathematical modeling, probability, and statistics\", \"Proficient with Python/R/SAS/SPSS for statistical modeling and machine learning\", \"Familiarity with relational databases and SQL programming\"],\n",
      "    \"missing key words not found in the resume\": [\"Publicis Media\", \"Commerce\", \"Content\", \"Marketing analytics\", \"Digital creative and media\"]\n",
      "}\n"
     ]
    }
   ],
   "source": [
    "result = get_result(template, model = llm_model, temperature=0) \n",
    "\n",
    "print(result)"
   ]
  },
  {
   "cell_type": "code",
   "execution_count": 57,
   "metadata": {},
   "outputs": [
    {
     "name": "stdout",
     "output_type": "stream",
     "text": [
      "{'title': 'Data Scientist', 'programming languages': ['Python', 'R', 'SAS', 'SPSS'], 'technical skills': ['Mathematical modeling', 'Probability', 'Statistics', 'Linear/logistic regression', 'Decision trees', 'Optimization modeling', 'Time series analysis'], 'soft skills': ['Strong written and verbal presentation skills', 'Proactive', 'Collaborative', 'Adaptable', 'Willing to expand technical and business skills'], 'salary': [70000, 105000], 'technologies': ['MS Office', 'Advanced Excel analysis', 'Power BI', 'Tableau'], 'degree': ['Bachelor of Science', 'Master of Science'], 'degree field': ['Mathematics', 'Physical Science', 'Engineering', 'Statistics', 'Economics'], 'responsibilities': ['Analyzing data', 'Applying appropriate models', 'Interpreting results', 'Preparing data for analysis', 'Performing ML optimization', 'Producing statistical analysis', 'Presenting/communicating analytical results', 'Continuously evolving solutions'], 'qualifications': ['2+ years business experience working on data science projects', 'Strong understanding of mathematical modeling, probability, and statistics', 'Proficient with Python/R/SAS/SPSS for statistical modeling and machine learning', 'Familiarity with relational databases and SQL programming'], 'missing key words not found in the resume': ['Publicis Media', 'Commerce', 'Content', 'Marketing analytics', 'Digital creative and media']}\n"
     ]
    }
   ],
   "source": [
    "import json\n",
    "result = json.loads(result)\n",
    "print(result)"
   ]
  },
  {
   "cell_type": "code",
   "execution_count": 72,
   "metadata": {},
   "outputs": [],
   "source": [
    "import numpy as np\n",
    "\n",
    "my_model = 'text-embedding-ada-002'\n",
    "\n",
    "\n",
    "def get_embedding(model: str, text: str) -> list[float]:\n",
    "    \n",
    "  text = text.replace(\"\\n\", \" \")\n",
    "\n",
    "  result = openai.embeddings.create(\n",
    "      model = my_model,\n",
    "      input = text,\n",
    "      \n",
    "    )\n",
    "  return result.data[0].embedding\n",
    "\n",
    "def cosine_similarity(a, b):\n",
    "    return np.dot(a, b) / (np.linalg.norm(a) * np.linalg.norm(b))"
   ]
  },
  {
   "cell_type": "code",
   "execution_count": 59,
   "metadata": {},
   "outputs": [
    {
     "name": "stdout",
     "output_type": "stream",
     "text": [
      "0.8012274955121425\n"
     ]
    }
   ],
   "source": [
    "resume_embedding = get_embedding(my_model, resume)\n",
    "document_embedding = get_embedding(my_model, document)\n",
    "\n",
    "similarity = cosine_similarity(resume_embedding, document_embedding)\n",
    "print(similarity)"
   ]
  },
  {
   "cell_type": "code",
   "execution_count": 60,
   "metadata": {},
   "outputs": [
    {
     "name": "stdout",
     "output_type": "stream",
     "text": [
      "{'title': 'Data Scientist', 'programming languages': ['Python', 'R', 'SAS', 'SPSS'], 'technical skills': ['Mathematical modeling', 'Probability', 'Statistics', 'Linear/logistic regression', 'Decision trees', 'Optimization modeling', 'Time series analysis'], 'soft skills': ['Strong written and verbal presentation skills', 'Proactive', 'Collaborative', 'Adaptable', 'Willing to expand technical and business skills'], 'salary': [70000, 105000], 'technologies': ['MS Office', 'Advanced Excel analysis', 'Power BI', 'Tableau'], 'degree': ['Bachelor of Science', 'Master of Science'], 'degree field': ['Mathematics', 'Physical Science', 'Engineering', 'Statistics', 'Economics'], 'responsibilities': ['Analyzing data', 'Applying appropriate models', 'Interpreting results', 'Preparing data for analysis', 'Performing ML optimization', 'Producing statistical analysis', 'Presenting/communicating analytical results', 'Continuously evolving solutions'], 'qualifications': ['2+ years business experience working on data science projects', 'Strong understanding of mathematical modeling, probability, and statistics', 'Proficient with Python/R/SAS/SPSS for statistical modeling and machine learning', 'Familiarity with relational databases and SQL programming'], 'missing key words not found in the resume': ['Publicis Media', 'Commerce', 'Content', 'Marketing analytics', 'Digital creative and media'], 'cosine_similarity': 0.8012274955121425}\n"
     ]
    }
   ],
   "source": [
    "result['cosine_similarity'] = similarity\n",
    "print(result)"
   ]
  },
  {
   "cell_type": "code",
   "execution_count": null,
   "metadata": {},
   "outputs": [],
   "source": []
  },
  {
   "cell_type": "code",
   "execution_count": null,
   "metadata": {},
   "outputs": [],
   "source": []
  },
  {
   "cell_type": "markdown",
   "metadata": {},
   "source": [
    "## Vector Search Functions"
   ]
  },
  {
   "cell_type": "code",
   "execution_count": 61,
   "metadata": {},
   "outputs": [],
   "source": [
    "import torch\n",
    "import numpy as np"
   ]
  },
  {
   "cell_type": "code",
   "execution_count": 62,
   "metadata": {},
   "outputs": [],
   "source": [
    "def euclidean_distance(tensor1, tensor2):\n",
    "\n",
    "    # np.linalg.norm(a - b)\n",
    "    return torch.dist(tensor1, tensor2,p=2)\n",
    "\n",
    "from torch.nn.functional import cosine_similarity \n",
    "\n",
    "\n",
    "def k_nearest_neighbors(query, tensor_list, k=None, metric = 'euclidean distance'):\n",
    "    distances = []\n",
    "\n",
    "    if k is None:\n",
    "        k = len(tensor_list)\n",
    "\n",
    "    if metric == 'euclidean distance':\n",
    "        for i, tensor in enumerate(tensor_list):\n",
    "            distances.append([i,euclidean_distance(query, tensor)])\n",
    "    \n",
    "    elif metric == 'cosine similarity':\n",
    "        for i, tensor in enumerate(tensor_list):\n",
    "            distances.append([i,cosine_similarity(query, tensor)])\n",
    "        \n",
    "    distances.sort(key=lambda x: x[1])\n",
    "    return distances[:k]\n",
    "\n",
    "# sklearn NearestNeighbors maybe"
   ]
  },
  {
   "cell_type": "code",
   "execution_count": 63,
   "metadata": {},
   "outputs": [
    {
     "data": {
      "text/plain": [
       "tensor([[[0.6393, 0.1077],\n",
       "         [0.5846, 0.3587]]])"
      ]
     },
     "execution_count": 63,
     "metadata": {},
     "output_type": "execute_result"
    }
   ],
   "source": [
    "tensor1 = torch.rand((1,2,2))\n",
    "tensor2 = torch.rand((1,2,2))\n",
    "tensor_list = [tensor1, tensor2,torch.rand((1,2,2)),torch.rand((1,2,2))]\n",
    "tensor1"
   ]
  },
  {
   "cell_type": "code",
   "execution_count": 73,
   "metadata": {},
   "outputs": [],
   "source": [
    "resume_embedding =   np.array(get_embedding(my_model, resume))"
   ]
  },
  {
   "cell_type": "markdown",
   "metadata": {},
   "source": [
    "## Vector DataBase"
   ]
  },
  {
   "cell_type": "code",
   "execution_count": 65,
   "metadata": {},
   "outputs": [
    {
     "name": "stdout",
     "output_type": "stream",
     "text": [
      "Note: you may need to restart the kernel to use updated packages.\n"
     ]
    },
    {
     "name": "stderr",
     "output_type": "stream",
     "text": [
      "ERROR: Could not install packages due to an OSError: [WinError 5] Access is denied: 'D:\\\\GitHub\\\\Selenium-Webscraping\\\\venv\\\\Lib\\\\site-packages\\\\~ydantic_core\\\\_pydantic_core.cp310-win_amd64.pyd'\n",
      "Check the permissions.\n",
      "\n",
      "WARNING: You are using pip version 22.0.4; however, version 23.3.2 is available.\n",
      "You should consider upgrading via the 'd:\\GitHub\\Selenium-Webscraping\\venv\\Scripts\\python.exe -m pip install --upgrade pip' command.\n"
     ]
    }
   ],
   "source": [
    "pip install -U -q lancedb pydantic"
   ]
  },
  {
   "cell_type": "code",
   "execution_count": 66,
   "metadata": {},
   "outputs": [],
   "source": [
    "from lancedb.pydantic import LanceModel, vector"
   ]
  },
  {
   "cell_type": "code",
   "execution_count": 77,
   "metadata": {},
   "outputs": [],
   "source": [
    "class JobPosting(LanceModel):\n",
    "    title: str\n",
    "    jobFamily: str\n",
    "    link: str\n",
    "    description: str\n",
    "    min_experience: int\n",
    "    salary: int\n",
    "    embedding: vector(768)"
   ]
  },
  {
   "cell_type": "code",
   "execution_count": 84,
   "metadata": {},
   "outputs": [],
   "source": [
    "import lancedb\n",
    "\n",
    "db = lancedb.connect('~/.jobs.db')\n",
    "table_name = \"job_posting\"\n",
    "db.drop_table(table_name, ignore_missing=True)\n",
    "table = db.create_table(table_name,schema=JobPosting)"
   ]
  },
  {
   "cell_type": "code",
   "execution_count": 86,
   "metadata": {},
   "outputs": [
    {
     "data": {
      "text/html": [
       "<div>\n",
       "<style scoped>\n",
       "    .dataframe tbody tr th:only-of-type {\n",
       "        vertical-align: middle;\n",
       "    }\n",
       "\n",
       "    .dataframe tbody tr th {\n",
       "        vertical-align: top;\n",
       "    }\n",
       "\n",
       "    .dataframe thead th {\n",
       "        text-align: right;\n",
       "    }\n",
       "</style>\n",
       "<table border=\"1\" class=\"dataframe\">\n",
       "  <thead>\n",
       "    <tr style=\"text-align: right;\">\n",
       "      <th></th>\n",
       "      <th>jobTitle</th>\n",
       "      <th>company</th>\n",
       "      <th>location</th>\n",
       "      <th>date posted</th>\n",
       "      <th>link</th>\n",
       "      <th>description</th>\n",
       "      <th>qualifications</th>\n",
       "      <th>min_salary</th>\n",
       "      <th>max_salary</th>\n",
       "      <th>date pulled</th>\n",
       "      <th>description.1</th>\n",
       "      <th>min_salary.1</th>\n",
       "      <th>max_salary.1</th>\n",
       "      <th>min_salary.2</th>\n",
       "      <th>max_salary.2</th>\n",
       "      <th>min_salary.3</th>\n",
       "      <th>max_salary.3</th>\n",
       "      <th>min_salary.4</th>\n",
       "      <th>max_salary.4</th>\n",
       "      <th>job_family</th>\n",
       "    </tr>\n",
       "  </thead>\n",
       "  <tbody>\n",
       "    <tr>\n",
       "      <th>0</th>\n",
       "      <td>Data Scientist</td>\n",
       "      <td>Zenith</td>\n",
       "      <td>New York, NY</td>\n",
       "      <td>NaN</td>\n",
       "      <td>https://www.simplyhired.com/job/P_p1hn27u3cTsW...</td>\n",
       "      <td>company description\\n\\nzenith is the roi agenc...</td>\n",
       "      <td>Power BI||Microsoft Excel||Management||SAS||Re...</td>\n",
       "      <td>70000.0</td>\n",
       "      <td>105000.0</td>\n",
       "      <td>NaN</td>\n",
       "      <td>NaN</td>\n",
       "      <td>0.0</td>\n",
       "      <td>1000.0</td>\n",
       "      <td>0.0</td>\n",
       "      <td>1000.0</td>\n",
       "      <td>0.0</td>\n",
       "      <td>1000.0</td>\n",
       "      <td>0</td>\n",
       "      <td>1000</td>\n",
       "      <td>Data Scientist</td>\n",
       "    </tr>\n",
       "    <tr>\n",
       "      <th>1</th>\n",
       "      <td>Senior Data Scientist</td>\n",
       "      <td>Charlie Health Engineering, Product &amp; Design</td>\n",
       "      <td>New York, NY</td>\n",
       "      <td>NaN</td>\n",
       "      <td>https://www.simplyhired.com/job/ikx9-0RLxNfIx5...</td>\n",
       "      <td>why charlie health?\\nyoung people across the c...</td>\n",
       "      <td>TensorFlow||Growing experience||Management||Py...</td>\n",
       "      <td>148500.0</td>\n",
       "      <td>228000.0</td>\n",
       "      <td>NaN</td>\n",
       "      <td>NaN</td>\n",
       "      <td>0.0</td>\n",
       "      <td>1000.0</td>\n",
       "      <td>0.0</td>\n",
       "      <td>1000.0</td>\n",
       "      <td>0.0</td>\n",
       "      <td>1000.0</td>\n",
       "      <td>0</td>\n",
       "      <td>1000</td>\n",
       "      <td>Data Scientist</td>\n",
       "    </tr>\n",
       "    <tr>\n",
       "      <th>2</th>\n",
       "      <td>Machine Learning Engineer</td>\n",
       "      <td>FalconSmartIT</td>\n",
       "      <td>New York, NY</td>\n",
       "      <td>NaN</td>\n",
       "      <td>https://www.simplyhired.com/job/OvfIVz13IToF5W...</td>\n",
       "      <td>job title: machine learning engineer\\nlocation...</td>\n",
       "      <td>TensorFlow||Oracle||Kubernetes||RESTful API||P...</td>\n",
       "      <td>144000.0</td>\n",
       "      <td>183000.0</td>\n",
       "      <td>NaN</td>\n",
       "      <td>NaN</td>\n",
       "      <td>0.0</td>\n",
       "      <td>1000.0</td>\n",
       "      <td>0.0</td>\n",
       "      <td>1000.0</td>\n",
       "      <td>0.0</td>\n",
       "      <td>1000.0</td>\n",
       "      <td>0</td>\n",
       "      <td>1000</td>\n",
       "      <td>Machine Learning Engineer</td>\n",
       "    </tr>\n",
       "    <tr>\n",
       "      <th>3</th>\n",
       "      <td>Data Scientist</td>\n",
       "      <td>Morgan Stanley</td>\n",
       "      <td>New York, NY</td>\n",
       "      <td>NaN</td>\n",
       "      <td>https://www.simplyhired.com/job/zdQBTgDHV97jOa...</td>\n",
       "      <td>data scientist\\njob number:\\n3245996\\nposting ...</td>\n",
       "      <td>Ontology||TensorFlow||Oracle||Statistics||Doct...</td>\n",
       "      <td>150000.0</td>\n",
       "      <td>190000.0</td>\n",
       "      <td>NaN</td>\n",
       "      <td>NaN</td>\n",
       "      <td>0.0</td>\n",
       "      <td>1000.0</td>\n",
       "      <td>0.0</td>\n",
       "      <td>1000.0</td>\n",
       "      <td>0.0</td>\n",
       "      <td>1000.0</td>\n",
       "      <td>0</td>\n",
       "      <td>1000</td>\n",
       "      <td>Data Scientist</td>\n",
       "    </tr>\n",
       "    <tr>\n",
       "      <th>4</th>\n",
       "      <td>Data Scientist</td>\n",
       "      <td>City of Jersey City</td>\n",
       "      <td>Jersey City, NJ</td>\n",
       "      <td>NaN</td>\n",
       "      <td>https://www.simplyhired.com/job/QW6PGA25yHL-mA...</td>\n",
       "      <td>job opening:\\ndata scientist - innovation\\ndep...</td>\n",
       "      <td>ArcGIS||Microsoft Word||Microsoft Excel||Micro...</td>\n",
       "      <td>60000.0</td>\n",
       "      <td>67000.0</td>\n",
       "      <td>NaN</td>\n",
       "      <td>NaN</td>\n",
       "      <td>0.0</td>\n",
       "      <td>1000.0</td>\n",
       "      <td>0.0</td>\n",
       "      <td>1000.0</td>\n",
       "      <td>0.0</td>\n",
       "      <td>1000.0</td>\n",
       "      <td>0</td>\n",
       "      <td>1000</td>\n",
       "      <td>Data Scientist</td>\n",
       "    </tr>\n",
       "  </tbody>\n",
       "</table>\n",
       "</div>"
      ],
      "text/plain": [
       "                    jobTitle                                       company  \\\n",
       "0             Data Scientist                                        Zenith   \n",
       "1      Senior Data Scientist  Charlie Health Engineering, Product & Design   \n",
       "2  Machine Learning Engineer                                 FalconSmartIT   \n",
       "3             Data Scientist                                Morgan Stanley   \n",
       "4             Data Scientist                           City of Jersey City   \n",
       "\n",
       "          location  date posted  \\\n",
       "0     New York, NY          NaN   \n",
       "1     New York, NY          NaN   \n",
       "2     New York, NY          NaN   \n",
       "3     New York, NY          NaN   \n",
       "4  Jersey City, NJ          NaN   \n",
       "\n",
       "                                                link  \\\n",
       "0  https://www.simplyhired.com/job/P_p1hn27u3cTsW...   \n",
       "1  https://www.simplyhired.com/job/ikx9-0RLxNfIx5...   \n",
       "2  https://www.simplyhired.com/job/OvfIVz13IToF5W...   \n",
       "3  https://www.simplyhired.com/job/zdQBTgDHV97jOa...   \n",
       "4  https://www.simplyhired.com/job/QW6PGA25yHL-mA...   \n",
       "\n",
       "                                         description  \\\n",
       "0  company description\\n\\nzenith is the roi agenc...   \n",
       "1  why charlie health?\\nyoung people across the c...   \n",
       "2  job title: machine learning engineer\\nlocation...   \n",
       "3  data scientist\\njob number:\\n3245996\\nposting ...   \n",
       "4  job opening:\\ndata scientist - innovation\\ndep...   \n",
       "\n",
       "                                      qualifications  min_salary  max_salary  \\\n",
       "0  Power BI||Microsoft Excel||Management||SAS||Re...     70000.0    105000.0   \n",
       "1  TensorFlow||Growing experience||Management||Py...    148500.0    228000.0   \n",
       "2  TensorFlow||Oracle||Kubernetes||RESTful API||P...    144000.0    183000.0   \n",
       "3  Ontology||TensorFlow||Oracle||Statistics||Doct...    150000.0    190000.0   \n",
       "4  ArcGIS||Microsoft Word||Microsoft Excel||Micro...     60000.0     67000.0   \n",
       "\n",
       "  date pulled description.1  min_salary.1  max_salary.1  min_salary.2  \\\n",
       "0         NaN           NaN           0.0        1000.0           0.0   \n",
       "1         NaN           NaN           0.0        1000.0           0.0   \n",
       "2         NaN           NaN           0.0        1000.0           0.0   \n",
       "3         NaN           NaN           0.0        1000.0           0.0   \n",
       "4         NaN           NaN           0.0        1000.0           0.0   \n",
       "\n",
       "   max_salary.2  min_salary.3  max_salary.3  min_salary.4  max_salary.4  \\\n",
       "0        1000.0           0.0        1000.0             0          1000   \n",
       "1        1000.0           0.0        1000.0             0          1000   \n",
       "2        1000.0           0.0        1000.0             0          1000   \n",
       "3        1000.0           0.0        1000.0             0          1000   \n",
       "4        1000.0           0.0        1000.0             0          1000   \n",
       "\n",
       "                  job_family  \n",
       "0             Data Scientist  \n",
       "1             Data Scientist  \n",
       "2  Machine Learning Engineer  \n",
       "3             Data Scientist  \n",
       "4             Data Scientist  "
      ]
     },
     "execution_count": 86,
     "metadata": {},
     "output_type": "execute_result"
    }
   ],
   "source": [
    "df = pd.read_csv('data\\df_all.csv')\n",
    "df.head()"
   ]
  },
  {
   "cell_type": "code",
   "execution_count": null,
   "metadata": {},
   "outputs": [],
   "source": [
    "data = []\n",
    "for row in df.iterrows():\n",
    "    data.append(\n",
    "        JobPosting(\n",
    "            title = row['title'],\n",
    "            jobFamily = row['jobFamily'],\n",
    "            link = row['link'],\n",
    "            description = row['description'],\n",
    "            min_experience = row['min_experience'],\n",
    "            salary = row['salary'],\n",
    "            embedding = row['embedding']\n",
    "        )\n",
    "    )"
   ]
  },
  {
   "cell_type": "code",
   "execution_count": 89,
   "metadata": {},
   "outputs": [
    {
     "data": {
      "application/vnd.jupyter.widget-view+json": {
       "model_id": "9f99a19912e64e51ac5d5b7eaa3d8e4e",
       "version_major": 2,
       "version_minor": 0
      },
      "text/plain": [
       "modules.json:   0%|          | 0.00/248 [00:00<?, ?B/s]"
      ]
     },
     "metadata": {},
     "output_type": "display_data"
    },
    {
     "data": {
      "application/vnd.jupyter.widget-view+json": {
       "model_id": "2e319a955f1d4362b34e89fc82afa67a",
       "version_major": 2,
       "version_minor": 0
      },
      "text/plain": [
       "config_sentence_transformers.json:   0%|          | 0.00/122 [00:00<?, ?B/s]"
      ]
     },
     "metadata": {},
     "output_type": "display_data"
    },
    {
     "data": {
      "application/vnd.jupyter.widget-view+json": {
       "model_id": "1d73c53ae5cb4d05bb4c48111610ba8b",
       "version_major": 2,
       "version_minor": 0
      },
      "text/plain": [
       "README.md:   0%|          | 0.00/2.13k [00:00<?, ?B/s]"
      ]
     },
     "metadata": {},
     "output_type": "display_data"
    },
    {
     "data": {
      "application/vnd.jupyter.widget-view+json": {
       "model_id": "7d19fc23c3414d04bb68f9a2714e647f",
       "version_major": 2,
       "version_minor": 0
      },
      "text/plain": [
       "(…)WordEmbeddings/wordembedding_config.json:   0%|          | 0.00/164 [00:00<?, ?B/s]"
      ]
     },
     "metadata": {},
     "output_type": "display_data"
    },
    {
     "data": {
      "application/vnd.jupyter.widget-view+json": {
       "model_id": "9cf4d368e1424c18a2de7482c10ae44e",
       "version_major": 2,
       "version_minor": 0
      },
      "text/plain": [
       "(…)beddings/whitespacetokenizer_config.json:   0%|          | 0.00/2.59M [00:00<?, ?B/s]"
      ]
     },
     "metadata": {},
     "output_type": "display_data"
    },
    {
     "data": {
      "application/vnd.jupyter.widget-view+json": {
       "model_id": "7d97785862b9471f8522e04ca5014dae",
       "version_major": 2,
       "version_minor": 0
      },
      "text/plain": [
       "pytorch_model.bin:   0%|          | 0.00/267M [00:00<?, ?B/s]"
      ]
     },
     "metadata": {},
     "output_type": "display_data"
    },
    {
     "data": {
      "application/vnd.jupyter.widget-view+json": {
       "model_id": "ed061e3e18c24e30ad7229583d62f251",
       "version_major": 2,
       "version_minor": 0
      },
      "text/plain": [
       "1_Pooling/config.json:   0%|          | 0.00/190 [00:00<?, ?B/s]"
      ]
     },
     "metadata": {},
     "output_type": "display_data"
    },
    {
     "data": {
      "text/plain": [
       "array([ 0.16991664,  0.00783736, -0.0720009 ,  0.07804568, -0.2186679 ,\n",
       "       -0.09554819, -0.18765056, -0.00588631, -0.27237043,  0.17567271,\n",
       "        0.06010617, -0.04511105,  0.13239665, -0.21639891, -0.20052384,\n",
       "        0.0403533 , -0.04439275,  0.00840744, -0.1317419 , -0.26644254,\n",
       "        0.06730819, -0.12744391,  0.13325112,  0.27840576,  0.01352842,\n",
       "       -0.06419964, -0.03723629,  0.00896205, -0.13472867,  0.03632133,\n",
       "        0.00970534, -0.02878545, -0.07570966,  0.0291443 , -0.06137928,\n",
       "       -0.29995587,  0.00694301, -0.11029555,  0.09524909, -0.24889642,\n",
       "        0.03185414, -0.023301  , -0.04431994, -0.13453081,  0.22169493,\n",
       "       -0.06850785, -0.01916286, -0.03795925, -0.20320426,  0.06766025,\n",
       "       -0.06915105, -0.0008649 , -0.04368152, -0.01319944, -0.15810668,\n",
       "        0.02466753, -0.12464097,  0.00361067,  0.08710392, -0.11194807,\n",
       "        0.18313028,  0.13320807, -0.12972337, -0.07136621, -0.0018399 ,\n",
       "        0.01388479,  0.06600219,  0.04211919,  0.09062914,  0.10785653,\n",
       "        0.09660785,  0.07957578, -0.28666544, -0.1937335 ,  0.11627646,\n",
       "        0.11563415, -0.00066121,  0.2561535 ,  0.166693  , -0.01271786,\n",
       "        0.01423   ,  0.10504311, -0.06917733,  0.03593501,  0.12789978,\n",
       "       -0.07541489,  0.09821768, -0.07455616, -0.11117891,  0.01650632,\n",
       "        0.02631753,  0.10291204,  0.05406185,  0.00869604, -0.13882403,\n",
       "       -0.03806438,  0.05148102,  0.16488455,  0.05082283,  0.11732557,\n",
       "        0.07613648, -0.08041894,  0.23468749, -0.09705978,  0.01170881,\n",
       "       -0.05636521, -0.11687621, -0.01645652, -0.26424187,  0.17176576,\n",
       "        0.19638729,  0.03069422, -0.14461678, -0.02373622,  0.04059185,\n",
       "       -0.02843224,  0.06285708,  0.05344291, -0.14700548,  0.09902102,\n",
       "        0.00797858, -0.04451053, -0.10585389,  0.18410851,  0.0569234 ,\n",
       "        0.14693043,  0.17693956,  0.03406514, -0.07755138,  0.01932361,\n",
       "        0.01616079,  0.06595796, -0.03586696,  0.12069234,  0.08415588,\n",
       "        0.11911704,  0.07681163, -0.04895966,  0.02266682,  0.00827825,\n",
       "       -0.01166114, -0.00613305, -0.05088332,  0.07589746, -0.04828458,\n",
       "       -0.09948395,  0.1120399 ,  0.07683521,  0.03240763, -0.00601447,\n",
       "        0.01617127, -0.05274574,  0.09922919,  0.22738677, -0.12065801,\n",
       "        0.01507697,  0.03369458,  0.08498793,  0.0188716 ,  0.02061481,\n",
       "        0.02667785,  0.17059061,  0.01096982,  0.16183361,  0.0097469 ,\n",
       "        0.02449239,  0.15917324,  0.07330623,  0.04006903, -0.04770049,\n",
       "        0.31416976, -0.03450338,  0.05575477, -0.14619152, -0.06312056,\n",
       "        0.07809239,  0.07548703, -0.15355913, -0.13981389,  0.01635387,\n",
       "        0.10941697, -0.01599634, -0.02825665,  0.07226685, -0.00872084,\n",
       "        0.07050023,  0.0163094 , -0.00588477,  0.16815558,  0.14009248,\n",
       "       -0.05637931, -0.1143403 ,  0.1593514 , -0.23327628, -0.17011765,\n",
       "       -0.13303347, -0.03775725,  0.09881868, -0.20167832, -0.00422569,\n",
       "        0.02990291, -0.03559662,  0.25852507, -0.06305587, -0.03125026,\n",
       "        0.19395384,  0.05266545, -0.15610167, -0.1255405 ,  0.20810421,\n",
       "       -0.04927045,  0.2619742 ,  0.21650906, -0.19696401,  0.05814653,\n",
       "       -0.132588  ,  0.13312474, -0.04983731,  0.0819153 , -0.14920783,\n",
       "        0.18794657,  0.00779944,  0.05037705, -0.11833221,  0.11030664,\n",
       "       -0.23688611, -0.05645529, -0.00059086, -0.12085581, -0.21951789,\n",
       "       -0.1278813 , -0.03153574,  0.05951316,  0.15579472, -0.24322012,\n",
       "       -0.05270712, -0.13074315, -0.27354306, -0.02095346, -0.01183439,\n",
       "        0.1991308 , -0.14860089,  0.03027915,  0.13993034, -0.21794966,\n",
       "       -0.17606644, -0.1681221 , -0.15039891, -0.30993584, -0.00276193,\n",
       "       -0.29918283, -0.19080658,  0.04765208, -0.1117931 ,  0.22505488,\n",
       "       -0.15058763,  0.0057545 ,  0.05436009,  0.18886699, -0.01890787,\n",
       "        0.05619052, -0.13877793, -0.06188529, -0.32350913, -0.22685252,\n",
       "       -0.14138764,  0.01637224,  0.02824188, -0.22845688, -0.01801418,\n",
       "        0.13595715,  0.230669  ,  0.06025498, -0.26464298,  0.15728547,\n",
       "       -0.12120735, -0.23340532, -0.02670171,  0.03269991, -0.00650018,\n",
       "       -0.14120403, -0.02961631,  0.07877352, -0.08437922, -0.25390735,\n",
       "       -0.09467675, -0.05151462, -0.10525025,  0.06354357,  0.01934788,\n",
       "        0.34472722,  0.06348495, -0.18225168,  0.07974032, -0.00673978,\n",
       "        0.24004298,  0.4015177 , -0.04391748,  0.20321964, -0.16897997],\n",
       "      dtype=float32)"
      ]
     },
     "execution_count": 89,
     "metadata": {},
     "output_type": "execute_result"
    }
   ],
   "source": [
    "from sentence_transformers import SentenceTransformer\n",
    "\n",
    "model_name = \"average_word_embeddings_komninos\"\n",
    "model = SentenceTransformer(model_name)\n",
    "\n",
    "embeddings = model.encode(df['description'][0])\n",
    "embeddings "
   ]
  },
  {
   "cell_type": "code",
   "execution_count": null,
   "metadata": {},
   "outputs": [],
   "source": []
  }
 ],
 "metadata": {
  "kernelspec": {
   "display_name": "venv",
   "language": "python",
   "name": "python3"
  },
  "language_info": {
   "codemirror_mode": {
    "name": "ipython",
    "version": 3
   },
   "file_extension": ".py",
   "mimetype": "text/x-python",
   "name": "python",
   "nbconvert_exporter": "python",
   "pygments_lexer": "ipython3",
   "version": "3.10.5"
  }
 },
 "nbformat": 4,
 "nbformat_minor": 2
}
